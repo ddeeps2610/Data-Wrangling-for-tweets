{
 "cells": [
  {
   "cell_type": "markdown",
   "metadata": {},
   "source": [
    "In this project, the data wrangling and analysis is carried out for tweets from WeRateDogs. The project was carried out in three stages:\n",
    "1. Gather required data\n",
    "2. Assess the data collected\n",
    "3. Clean the data for various issues identified during assessment\n",
    "\n",
    "# Gathering\n",
    "Three sets of data were gathered. The first set was obtained from a csv file which contained information about tweets and some information about the dogs  in the tweets. The second set was collected using tweepy api call to twitter to get information about tweets' popularity. Finally, the third information was collected from a dog breed prediction file which was hosted on the website.\n",
    "\n",
    "# Assessing\n",
    "All three datasets collected above were assessed both programmatically and visually. Since the datasets were huge, visual assessment was a bottleneck. So, I started with programmatic assessment to check irregularities. When needed, the irregularities were narrowed down and were assessed visually.\n",
    "\n",
    "These datasets were also assessed for quality and tidiness. The major concerns for quality was validating the data extracted from tweets such as name, rating, dog stage etc. On the other hand, the major concern for tidiness was that information about tweets and dogs were clubbed in one data set. Finally, all the issues across all datasets were documented for cleaning.\n",
    "\n",
    "# Cleaning\n",
    "There were many issues observed across different dataframes. Cleaning of these above issues is done in the following order.\n",
    "\n",
    "1. Missing information is cleaned first.\n",
    "2. Tidiness issues are cleaned next.\n",
    "3. Other quality issues are cleaned last. \n",
    "\n",
    "Before cleaning, all dataframes were copied to make sure existing datasets are not lost and can be turned back to in case if there is a need. All issues are then collected and organized together so that similar issues can be addressed together instead of cleaning them individually. Each issue was defined, then cleaned and finally tested to make sure that the issue is cleaned."
   ]
  },
  {
   "cell_type": "code",
   "execution_count": null,
   "metadata": {},
   "outputs": [],
   "source": []
  }
 ],
 "metadata": {
  "kernelspec": {
   "display_name": "Python 3",
   "language": "python",
   "name": "python3"
  },
  "language_info": {
   "codemirror_mode": {
    "name": "ipython",
    "version": 3
   },
   "file_extension": ".py",
   "mimetype": "text/x-python",
   "name": "python",
   "nbconvert_exporter": "python",
   "pygments_lexer": "ipython3",
   "version": "3.6.3"
  }
 },
 "nbformat": 4,
 "nbformat_minor": 2
}
