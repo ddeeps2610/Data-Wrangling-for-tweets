{
 "cells": [
  {
   "cell_type": "markdown",
   "metadata": {},
   "source": [
    "The data wrangling and analysis for tweets from WeRateDogs is done in following three stages:\n",
    "1. Gathering\n",
    "2. Assessing\n",
    "3. Cleaning\n"
   ]
  },
  {
   "cell_type": "markdown",
   "metadata": {},
   "source": [
    "# Gathering\n",
    "There are three data sets gathered for analysis. The details of the same are mentioned below.\n",
    "1. The file \"twitter-archive-enhanced.csv\" contains various information about tweets from WeRateDogs.\n",
    "\n",
    "2. Additional information about these above tweets are collected from twitter using tweepy. The additional information collected includes retweet_count and favorite_count.\n",
    "\n",
    "3. The file \"image_predictions.tsv\" contains the dog breed prediction. The file is hosted on a website and was programmatically downloaded, stored locally and used for data wrangling and analysis. The url for the file is https://d17h27t6h515a5.cloudfront.net/topher/2017/August/599fd2ad_image-predictions/image-predictions.tsv\n"
   ]
  },
  {
   "cell_type": "markdown",
   "metadata": {},
   "source": [
    "# Assessing\n",
    "All three above datasets were assessed visually and programmatically for quality and tidiness. \n",
    "\n",
    "\n",
    "## Programmatic Assessment\n",
    "The above datasets were assessed programmatically for various requirements. The ways in which programmatic assessment was carried out is mentioned below.\n",
    "\n",
    "* The pandas .info() function was the beginning of each data set. This function gave a lot of information about the dataset. It helped to know number of columns, their data types and number of non-null entries for each column. \n",
    "\n",
    "* The first issue observed was the data type of some of the columns were float instead of int. This was further confirmed by visually looking at the entries and by checking the datatype of these entries programmatically. Also, there are two timestamp columns with datatype object instead of date. \n",
    "\n",
    "* The .info() function on tweets showed that the dataframe contained lot of information which included the tweet information along with various information extracted from the tweet text. This is a tidyness issue. The static information about the tweet should be kept separately and all the information extracted about the dog from the tweet should be kept separately.\n",
    "\n",
    "* The .info() also revealed that while a dog can be in only one stage, each stage was separated out in an individual column. This is another tidiness issue. The stages needs to be merged into one column called stage.\n",
    "\n",
    "* The visual assessment triggered a programmatic assessment to check number of entries with rating_numerator < 10. The programmatic assessment helped to narrow down the search. It helped to understand that rating_numerator does not necessarily be greater than 10 and denominator not necessarily 10. \n",
    "\n",
    "* The process was repeated for remaining two datasets.\n",
    "\n",
    "## Visual Assessment\n",
    "The visual assessment was a bottleneck as analyzing all the data visually wasn't practical. However, visual assessment of some samples helped to trigger further programmatic assessment. Some of the visual assessment carried out are mentinoed below.\n",
    "\n",
    "* The visual assessment of sample data showed that some entries for rating_numerator is less than 10. This called for further programmatic investigation to figure out number of such entries. It also helped to know that the numerator doesn't necessarily be greater than 10. However, some texts had multiple numbers and rating_numerator and rating_denominator were wrongly extracted. \n",
    "\n",
    "\n",
    "The various issues observed during assessment are listed below.\n",
    "\n",
    "## Quality issues¶\n",
    "### tweets\n",
    "\n",
    "#### Data types:\n",
    "* in_reply_to_status_id, in_reply_to_user_id, retweeted_status_id and retweeted_status_user_id are float64 instead of int64.  \n",
    "* time_stamp and retweeted_status_timestamp are object instead of type date\n",
    "\n",
    "#### Wrong Values:\n",
    "* For tweet_id 835246439529840640, rating is 13/10 instead of 960/0. \n",
    "* For tweet_id 835152434251116546, rating is 0/10. Although the rating is not wrong as per the tweet text, no dog deserves a 0. This could be a typing error from the user. This could probably be quality issue. \n",
    "* The rating system doesn't have any standard. Denominator isn't necessarily 10 and numerator isn't necessarily greater than 10. Also, these ratings doesn't seem to be normalized and/or compared.\n",
    "* For tweet_id 670361874861563904, name = a instead of Cherokee.\n",
    "* For tweet_id 670303360680108032, name = a instead of Hemry. Is it Henry or Hemry? Could it be typing error?\n",
    "* Some names are extracted wrongly and contains articles such as 'a', 'an' and 'the' for names. \n",
    "\n",
    "#### None Values:\n",
    "* The column, name, is an object and 745 entries are filled with None instead of NaN. This leads to misconception that all tweets have names. \n",
    "* The dog stages are filled with None and the field is of type object.Since, the counts are 2345 for all stages, it is misleading to believe that all stages are valid for all dogs.\n",
    "\n",
    "\n",
    "### tweet_moreInfo\n",
    "\n",
    "* More information is obtained from twitter for 2345 tweets out of 2356. 11 tweets were not present or not accessible anymore.\n",
    "* All fields, tweet_id, retweet_count, and favorite_count are of type object instead of int.\n",
    "\n",
    "### tweets_prediction\n",
    "\n",
    "* Predictions are obtained only for 2075 entries out of 2356. There are missing entries.\n",
    "* Need to check if there are any None for p1, p2, p3 predictions since these are of type object.\n",
    "\n",
    "## Tidiness issues\n",
    "\n",
    "* The first dataset \"tweets\" contains two sets of information, namely, static information about tweet and dog information extrated from the text.\n",
    "* One characteristic, dog stage, is separated into multiple columns one each for each stage of dog. \n",
    "* tweets_moreInfo should be part of tweets.b\n"
   ]
  },
  {
   "cell_type": "markdown",
   "metadata": {},
   "source": [
    "# Cleaning"
   ]
  },
  {
   "cell_type": "markdown",
   "metadata": {},
   "source": [
    "There were many issues observed across different dataframes. Cleaning of these above issues is done in the following order.\n",
    "1. Missing information is cleaned first.\n",
    "2. Tidiness issues are cleaned next.\n",
    "3. Other quality issues are cleaned last.\n",
    "\n",
    "The cleaning was then done in the following steps:\n",
    "* Before cleaning, all dataframes were copied to make sure existing datasets are not lost and can be turned back to in case if there is a need.\n",
    "\n",
    "* All issues are then collected and organized together so that similar issues can be addressed together instead of cleaning them individually.\n",
    "\n",
    "* Each issue was defined, then cleaned and finally tested to make sure that the issue is cleaned.\n",
    "\n",
    "* For missing information, I realized that I can't get the missing information for the reasons mentioned in the project workspace. So, made a note of the same and proceeded with next.\n",
    "\n",
    "* Then, I fixed the tidiness issues so that its easier to fix others easily. This also helps to structure data which gives better sense of data.\n",
    "\n",
    "* Finally, remaining quality issues are fixed.\n",
    "\n",
    "* Although it looks like only 9 issues were cleaned, lot of the above were combined and cleaned together.\n"
   ]
  },
  {
   "cell_type": "markdown",
   "metadata": {},
   "source": []
  }
 ],
 "metadata": {
  "kernelspec": {
   "display_name": "Python 3",
   "language": "python",
   "name": "python3"
  },
  "language_info": {
   "codemirror_mode": {
    "name": "ipython",
    "version": 3
   },
   "file_extension": ".py",
   "mimetype": "text/x-python",
   "name": "python",
   "nbconvert_exporter": "python",
   "pygments_lexer": "ipython3",
   "version": "3.6.3"
  }
 },
 "nbformat": 4,
 "nbformat_minor": 2
}
